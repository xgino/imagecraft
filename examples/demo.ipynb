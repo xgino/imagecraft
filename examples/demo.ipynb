{
 "cells": [
  {
   "cell_type": "code",
   "execution_count": null,
   "id": "34812dff",
   "metadata": {
    "vscode": {
     "languageId": "plaintext"
    }
   },
   "outputs": [],
   "source": [
    "from imagecraft import resize, crop, convert\n",
    "from IPython.display import display\n",
    "\n",
    "# Resize example\n",
    "img = resize(\"sample.jpg\", width=400)\n",
    "display(img)\n",
    "\n",
    "# Crop example\n",
    "img = crop(\"sample.jpg\", size=(200, 200), position=\"center\")\n",
    "display(img)\n",
    "\n",
    "# Convert example\n",
    "path = convert(\"sample.png\", \"JPEG\")\n",
    "print(\"Saved at:\", path)"
   ]
  },
  {
   "cell_type": "code",
   "execution_count": null,
   "id": "67bea629",
   "metadata": {
    "vscode": {
     "languageId": "plaintext"
    }
   },
   "outputs": [],
   "source": []
  }
 ],
 "metadata": {
  "language_info": {
   "name": "python"
  }
 },
 "nbformat": 4,
 "nbformat_minor": 5
}
